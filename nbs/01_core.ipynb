{
 "cells": [
  {
   "cell_type": "markdown",
   "metadata": {},
   "source": [
    "# Core"
   ]
  },
  {
   "cell_type": "code",
   "execution_count": null,
   "metadata": {},
   "outputs": [],
   "source": [
    "# | default_exp core\n"
   ]
  },
  {
   "cell_type": "code",
   "execution_count": null,
   "metadata": {},
   "outputs": [],
   "source": [
    "# | export\n",
    "\n",
    "from invoice_parser.imports import *\n",
    "from invoice_parser.utils import *\n"
   ]
  },
  {
   "cell_type": "code",
   "execution_count": null,
   "metadata": {},
   "outputs": [],
   "source": [
    "#| hide\n",
    "\n",
    "%load_ext autoreload\n",
    "%autoreload 2\n",
    "%reload_ext autoreload"
   ]
  },
  {
   "cell_type": "code",
   "execution_count": null,
   "metadata": {},
   "outputs": [],
   "source": [
    "# | export\n",
    "\n",
    "\n",
    "def page0_text(pdf):\n",
    "    loaded_pdf = PdfReader(pdf)\n",
    "    p = loaded_pdf.pages[0]\n",
    "    return p.extract_text()\n",
    "\n",
    "\n",
    "def is_invoice_text(text, model):\n",
    "    return model(text).detach().cpu().item() == 0\n",
    "\n",
    "\n",
    "def is_invoice(pdf, model, device=None):\n",
    "    if model is None:\n",
    "        model = load_invoice_model(device=device)\n",
    "    return is_invoice_text(page0_text(pdf), model)\n",
    "\n",
    "\n",
    "def is_invoice_chain(\n",
    "    model,\n",
    "    device=None,\n",
    "    input_variables=[\"pdf\"],\n",
    "    output_variables=[\"is_invoice\"],\n",
    "    verbose=False,\n",
    "):\n",
    "    return transform_chain(\n",
    "        is_invoice,\n",
    "        transform_kwargs={\"model\": model, \"device\": device},\n",
    "        vars_kwargs_mapping={input_variables[0]: \"pdf\"},\n",
    "        input_variables=input_variables,\n",
    "        output_variables=output_variables,\n",
    "        verbose=verbose,\n",
    "    )"
   ]
  },
  {
   "cell_type": "code",
   "execution_count": null,
   "metadata": {},
   "outputs": [],
   "source": [
    "# | hide\n",
    "import nbdev\n",
    "\n",
    "nbdev.nbdev_export()\n"
   ]
  }
 ],
 "metadata": {
  "kernelspec": {
   "display_name": "python3",
   "language": "python",
   "name": "python3"
  }
 },
 "nbformat": 4,
 "nbformat_minor": 4
}
