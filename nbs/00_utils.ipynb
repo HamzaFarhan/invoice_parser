{
 "cells": [
  {
   "cell_type": "markdown",
   "metadata": {},
   "source": [
    "# Utils"
   ]
  },
  {
   "cell_type": "code",
   "execution_count": null,
   "metadata": {},
   "outputs": [],
   "source": [
    "# | default_exp utils\n"
   ]
  },
  {
   "cell_type": "code",
   "execution_count": null,
   "metadata": {},
   "outputs": [],
   "source": [
    "# | export\n",
    "\n",
    "from invoice_parser.imports import *\n"
   ]
  },
  {
   "cell_type": "code",
   "execution_count": null,
   "metadata": {},
   "outputs": [],
   "source": [
    "#| hide\n",
    "\n",
    "%load_ext autoreload\n",
    "%autoreload 2\n",
    "%reload_ext autoreload"
   ]
  },
  {
   "cell_type": "code",
   "execution_count": null,
   "metadata": {},
   "outputs": [],
   "source": [
    "# | export\n",
    "\n",
    "\n",
    "def empty_part(x):\n",
    "    return x == \"\" or x == None\n",
    "\n",
    "\n",
    "def empty_row(x):\n",
    "    return all([empty_part(i) for i in x])\n",
    "\n",
    "\n",
    "def full_row(x):\n",
    "    return all([not empty_part(i) for i in x])\n",
    "\n",
    "\n",
    "def first_empty_row(table):\n",
    "    for i, row in enumerate(table):\n",
    "        if empty_row(row):\n",
    "            return i\n",
    "    return -1"
   ]
  },
  {
   "cell_type": "code",
   "execution_count": null,
   "metadata": {},
   "outputs": [],
   "source": [
    "# | hide\n",
    "\n",
    "\n",
    "def test_empty_part():\n",
    "    assert empty_part(\"\") == True\n",
    "    assert empty_part(None) == True\n",
    "    assert empty_part(\"hello\") == False\n",
    "\n",
    "\n",
    "def test_empty_row():\n",
    "    assert empty_row([\"\", \"\", \"\"]) == True\n",
    "    assert empty_row([None, None, None]) == True\n",
    "    assert empty_row([\"\", None]) == True\n",
    "    assert empty_row([\"hello\", \"\", \"world\"]) == False\n",
    "\n",
    "\n",
    "def test_full_row():\n",
    "    assert full_row([\"hello\", \"world\", \"test\"]) == True\n",
    "    assert full_row([\"\", \"world\", \"test\"]) == False\n",
    "    assert full_row([None, \"world\", \"test\"]) == False\n",
    "\n",
    "\n",
    "def test_first_empty_row():\n",
    "    table = [[\"hello\", \"world\", \"test\"], [\"\", \"\", \"\"], [\"\", \"world\", \"test\"]]\n",
    "    assert first_empty_row(table) == 1\n",
    "\n",
    "    table = [\n",
    "        [\"hello\", \"world\", \"test\"],\n",
    "        [\"hello\", \"world\", \"test\"],\n",
    "        [\"hello\", \"world\", \"test\"],\n",
    "    ]\n",
    "    assert first_empty_row(table) == -1\n"
   ]
  },
  {
   "cell_type": "code",
   "execution_count": null,
   "metadata": {},
   "outputs": [],
   "source": [
    "# | hide\n",
    "\n",
    "# run tests\n",
    "test_empty_part()\n",
    "test_empty_row()\n",
    "test_full_row()\n",
    "test_first_empty_row()\n"
   ]
  },
  {
   "cell_type": "code",
   "execution_count": null,
   "metadata": {},
   "outputs": [],
   "source": [
    "# | hide\n",
    "import nbdev\n",
    "\n",
    "nbdev.nbdev_export()\n"
   ]
  }
 ],
 "metadata": {
  "kernelspec": {
   "display_name": "python3",
   "language": "python",
   "name": "python3"
  }
 },
 "nbformat": 4,
 "nbformat_minor": 4
}
