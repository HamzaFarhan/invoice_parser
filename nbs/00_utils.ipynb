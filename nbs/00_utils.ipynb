{
 "cells": [
  {
   "cell_type": "markdown",
   "metadata": {},
   "source": [
    "# Utils"
   ]
  },
  {
   "cell_type": "code",
   "execution_count": null,
   "metadata": {},
   "outputs": [],
   "source": [
    "# | default_exp utils"
   ]
  },
  {
   "cell_type": "code",
   "execution_count": null,
   "metadata": {},
   "outputs": [],
   "source": [
    "# | export\n",
    "\n",
    "from invoice_parser.imports import *"
   ]
  },
  {
   "cell_type": "code",
   "execution_count": null,
   "metadata": {},
   "outputs": [],
   "source": [
    "#| hide\n",
    "\n",
    "%load_ext autoreload\n",
    "%autoreload 2\n",
    "%reload_ext autoreload"
   ]
  },
  {
   "cell_type": "code",
   "execution_count": null,
   "metadata": {},
   "outputs": [],
   "source": [
    "# | export\n",
    "\n",
    "\n",
    "def part_check(p, check=[]):\n",
    "    return p in check\n",
    "\n",
    "\n",
    "def row_check(row, check=[], any=False):\n",
    "    if any:\n",
    "        return any([part_check(p, check) for p in row])\n",
    "    else:\n",
    "        return all([part_check(p, check) for p in row])\n",
    "\n",
    "\n",
    "def empty_part(x):\n",
    "    return part_check(x, [\"\", None])\n",
    "\n",
    "\n",
    "def empty_row(x):\n",
    "    return all([empty_part(i) for i in x])\n",
    "\n",
    "\n",
    "def full_row(x):\n",
    "    return all([not empty_part(i) for i in x])\n",
    "\n",
    "\n",
    "def get_first_full_row(table):\n",
    "    for i, t in enumerate(table):\n",
    "        if full_row(t):\n",
    "            return t, i\n",
    "    return None, None\n",
    "\n",
    "\n",
    "def get_first_empty_row(table):\n",
    "    for i, t in enumerate(table):\n",
    "        if empty_row(t):\n",
    "            return t, i\n",
    "    return None, None\n",
    "\n",
    "\n",
    "def get_first_non_empty_row(table):\n",
    "    for i, t in enumerate(table):\n",
    "        if not empty_row(t):\n",
    "            return t, i\n",
    "    return None, None\n",
    "\n",
    "\n",
    "def load_invoice_model(device=\"cuda:0\"):\n",
    "    return SetFitModel.from_pretrained(\n",
    "        \"HamzaFarhan/InvoiceOrNot\", device=default_device(device)\n",
    "    )"
   ]
  },
  {
   "cell_type": "code",
   "execution_count": null,
   "metadata": {},
   "outputs": [],
   "source": [
    "# | hide\n",
    "import nbdev\n",
    "\n",
    "nbdev.nbdev_export()"
   ]
  }
 ],
 "metadata": {
  "kernelspec": {
   "display_name": "python3",
   "language": "python",
   "name": "python3"
  }
 },
 "nbformat": 4,
 "nbformat_minor": 4
}
