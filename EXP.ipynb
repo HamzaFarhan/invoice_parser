{
 "cells": [
  {
   "cell_type": "code",
   "execution_count": 1,
   "metadata": {},
   "outputs": [
    {
     "ename": "ModuleNotFoundError",
     "evalue": "No module named 'invoice_parser'",
     "output_type": "error",
     "traceback": [
      "\u001b[0;31m---------------------------------------------------------------------------\u001b[0m",
      "\u001b[0;31mModuleNotFoundError\u001b[0m                       Traceback (most recent call last)",
      "Cell \u001b[0;32mIn[1], line 1\u001b[0m\n\u001b[0;32m----> 1\u001b[0m \u001b[39mfrom\u001b[39;00m \u001b[39minvoice_parser\u001b[39;00m\u001b[39m.\u001b[39;00m\u001b[39mutils\u001b[39;00m \u001b[39mimport\u001b[39;00m \u001b[39m*\u001b[39m\n\u001b[1;32m      2\u001b[0m \u001b[39mfrom\u001b[39;00m \u001b[39mcollections\u001b[39;00m \u001b[39mimport\u001b[39;00m defaultdict\n\u001b[1;32m      3\u001b[0m \u001b[39mfrom\u001b[39;00m \u001b[39minvoice_parser\u001b[39;00m\u001b[39m.\u001b[39;00m\u001b[39mimports\u001b[39;00m \u001b[39mimport\u001b[39;00m \u001b[39m*\u001b[39m\n",
      "\u001b[0;31mModuleNotFoundError\u001b[0m: No module named 'invoice_parser'"
     ]
    }
   ],
   "source": [
    "from invoice_parser.utils import *\n",
    "from collections import defaultdict\n",
    "from invoice_parser.imports import *\n",
    "from pydantic import BaseModel, Field\n",
    "from langchain.chains import RetrievalQA\n",
    "from langchain.document_loaders import PDFPlumberLoader\n",
    "from langchain_ray.pdf.utils import pdf_to_docs, process_text\n",
    "from langchain.output_parsers import PydanticOutputParser, OutputFixingParser\n",
    "from langchain.embeddings.sentence_transformer import SentenceTransformerEmbeddings"
   ]
  },
  {
   "cell_type": "code",
   "execution_count": 2,
   "metadata": {},
   "outputs": [],
   "source": [
    "vline_settings = {\n",
    "    \"horizontal_strategy\": \"text\",\n",
    "    \"vertical_strategy\": \"lines\",\n",
    "    \"intersection_x_tolerance\": 5,\n",
    "    \"snap_y_tolerance\": 5,\n",
    "    \"join_x_tolerance\": 5,\n",
    "    \"join_y_tolerance\": 5,\n",
    "}\n",
    "hline_settings = {\n",
    "    \"horizontal_strategy\": \"lines\",\n",
    "    \"vertical_strategy\": \"text\",\n",
    "    \"intersection_x_tolerance\": 5,\n",
    "    \"snap_y_tolerance\": 5,\n",
    "    \"join_x_tolerance\": 5,\n",
    "    \"join_y_tolerance\": 5,\n",
    "}\n",
    "line_settings = {\n",
    "    \"horizontal_strategy\": \"lines\",\n",
    "    \"vertical_strategy\": \"lines\",\n",
    "    \"intersection_x_tolerance\": 5,\n",
    "    \"snap_y_tolerance\": 5,\n",
    "    \"join_x_tolerance\": 5,\n",
    "    \"join_y_tolerance\": 5,\n",
    "}\n",
    "text_settings = {\n",
    "    \"horizontal_strategy\": \"text\",\n",
    "    \"vertical_strategy\": \"text\",\n",
    "    \"intersection_x_tolerance\": 5,\n",
    "    \"snap_y_tolerance\": 5,\n",
    "    \"join_x_tolerance\": 5,\n",
    "    \"join_y_tolerance\": 5,\n",
    "}\n",
    "# text_settings = {\n",
    "#     # \"intersection_x_tolerance\": 5,\n",
    "#     # \"snap_y_tolerance\": 5,\n",
    "#     # \"join_x_tolerance\": 5,\n",
    "#     # \"join_y_tolerance\": 5,\n",
    "#     \"text_layout\": True\n",
    "# }\n",
    "\n",
    "\n",
    "def get_fullest_row(table):\n",
    "    rows = [r for r in table if full_row(r)]\n",
    "    if len(rows) == 0:\n",
    "        rows = table\n",
    "    row = max(rows, key=len)\n",
    "    return row, table.index(row)\n",
    "\n",
    "\n",
    "def num_full_parts(row):\n",
    "    return len([p for p in row if not empty_part(p)])\n",
    "\n",
    "\n",
    "def get_table_items(table):\n",
    "    if table is None or len(table) == 0:\n",
    "        return []\n",
    "\n",
    "    cols, cols_idx = get_fullest_row(table)\n",
    "    for i, c in enumerate(cols):\n",
    "        if empty_part(c):\n",
    "            cols[i] = f\"col_{i}\"\n",
    "\n",
    "    # let's assume that the first full row after the cols row is the first item\n",
    "    first_order_row_idx = get_first_full_row(table[cols_idx + 1 :])[1]\n",
    "    if first_order_row_idx is None:\n",
    "        first_order_row_idx = get_first_non_empty_row(table[cols_idx + 1 :])[1]\n",
    "    if first_order_row_idx is None:\n",
    "        first_order_row_idx = 0\n",
    "    first_order_row_idx += cols_idx + 1\n",
    "\n",
    "    items = []\n",
    "    item = {c: \"\" for c in cols}\n",
    "    first_order_row_idx = min(first_order_row_idx, len(table) - 1)\n",
    "    order_table = table[first_order_row_idx:]\n",
    "    curr_row_len = num_full_parts(order_table[0])\n",
    "    for row in order_table:\n",
    "        if ((num_full_parts(row) == curr_row_len) or empty_row(row)) and len(item) > 0:\n",
    "            items.append(item)\n",
    "            item = {c: \"\" for c in cols}\n",
    "            if not empty_row(row):\n",
    "                curr_row_len = num_full_parts(row)\n",
    "        for i, c in enumerate(cols):\n",
    "            row_part = row[i]\n",
    "            if not empty_part(row_part):\n",
    "                row_part = \" \".join(row[i].split(\"\\n\"))\n",
    "                item[c] += row_part + \" \"\n",
    "    items.append(item)\n",
    "    return items\n"
   ]
  },
  {
   "cell_type": "code",
   "execution_count": 3,
   "metadata": {},
   "outputs": [],
   "source": [
    "device = default_device()\n",
    "\n",
    "embeddings = SentenceTransformerEmbeddings(\n",
    "    model_name='sentence-transformers/all-mpnet-base-v2', model_kwargs={\"device\": default_device()}\n",
    ")\n",
    "\n",
    "llm = HuggingFacePipeline(\n",
    "    pipeline=pipeline(\n",
    "        \"text2text-generation\",\n",
    "        model=\"google/flan-t5-large\",\n",
    "        device_map=default_device(),\n",
    "        max_new_tokens=256,\n",
    "    )\n",
    ")"
   ]
  },
  {
   "cell_type": "code",
   "execution_count": 87,
   "metadata": {},
   "outputs": [
    {
     "data": {
      "text/html": [
       "<pre style=\"white-space:pre;overflow-x:auto;line-height:normal;font-family:Menlo,'DejaVu Sans Mono',consolas,'Courier New',monospace\"><span style=\"color: #800000; text-decoration-color: #800000\">╭─────────────────────────────── </span><span style=\"color: #800000; text-decoration-color: #800000; font-weight: bold\">Traceback </span><span style=\"color: #bf7f7f; text-decoration-color: #bf7f7f; font-weight: bold\">(most recent call last)</span><span style=\"color: #800000; text-decoration-color: #800000\"> ────────────────────────────────╮</span>\n",
       "<span style=\"color: #800000; text-decoration-color: #800000\">│</span> in <span style=\"color: #00ff00; text-decoration-color: #00ff00\">&lt;module&gt;</span>:<span style=\"color: #0000ff; text-decoration-color: #0000ff\">6</span>                                                                                    <span style=\"color: #800000; text-decoration-color: #800000\">│</span>\n",
       "<span style=\"color: #800000; text-decoration-color: #800000\">│</span>                                                                                                  <span style=\"color: #800000; text-decoration-color: #800000\">│</span>\n",
       "<span style=\"color: #800000; text-decoration-color: #800000\">│</span>   <span style=\"color: #7f7f7f; text-decoration-color: #7f7f7f\"> 3 </span>data = pdfplumber.open(pdf)                                                                 <span style=\"color: #800000; text-decoration-color: #800000\">│</span>\n",
       "<span style=\"color: #800000; text-decoration-color: #800000\">│</span>   <span style=\"color: #7f7f7f; text-decoration-color: #7f7f7f\"> 4 </span>                                                                                            <span style=\"color: #800000; text-decoration-color: #800000\">│</span>\n",
       "<span style=\"color: #800000; text-decoration-color: #800000\">│</span>   <span style=\"color: #7f7f7f; text-decoration-color: #7f7f7f\"> 5 </span>img = data.pages[<span style=\"color: #0000ff; text-decoration-color: #0000ff\">0</span>].to_image()                                                              <span style=\"color: #800000; text-decoration-color: #800000\">│</span>\n",
       "<span style=\"color: #800000; text-decoration-color: #800000\">│</span> <span style=\"color: #800000; text-decoration-color: #800000\">❱ </span> 6 docs = pdf_to_docs(pdf)[<span style=\"color: #0000ff; text-decoration-color: #0000ff\">0</span>]                                                                  <span style=\"color: #800000; text-decoration-color: #800000\">│</span>\n",
       "<span style=\"color: #800000; text-decoration-color: #800000\">│</span>   <span style=\"color: #7f7f7f; text-decoration-color: #7f7f7f\"> 7 </span>text = [                                                                                    <span style=\"color: #800000; text-decoration-color: #800000\">│</span>\n",
       "<span style=\"color: #800000; text-decoration-color: #800000\">│</span>   <span style=\"color: #7f7f7f; text-decoration-color: #7f7f7f\"> 8 </span><span style=\"color: #7f7f7f; text-decoration-color: #7f7f7f\">│   </span>[t.strip() <span style=\"color: #0000ff; text-decoration-color: #0000ff\">for</span> t <span style=\"color: #ff00ff; text-decoration-color: #ff00ff\">in</span> p.extract_text(layout=<span style=\"color: #0000ff; text-decoration-color: #0000ff\">True</span>).splitlines()] <span style=\"color: #0000ff; text-decoration-color: #0000ff\">for</span> p <span style=\"color: #ff00ff; text-decoration-color: #ff00ff\">in</span> data.pages       <span style=\"color: #800000; text-decoration-color: #800000\">│</span>\n",
       "<span style=\"color: #800000; text-decoration-color: #800000\">│</span>   <span style=\"color: #7f7f7f; text-decoration-color: #7f7f7f\"> 9 </span>]                                                                                           <span style=\"color: #800000; text-decoration-color: #800000\">│</span>\n",
       "<span style=\"color: #800000; text-decoration-color: #800000\">╰──────────────────────────────────────────────────────────────────────────────────────────────────╯</span>\n",
       "<span style=\"color: #ff0000; text-decoration-color: #ff0000; font-weight: bold\">IndexError: </span>list index out of range\n",
       "</pre>\n"
      ],
      "text/plain": [
       "\u001b[31m╭─\u001b[0m\u001b[31m──────────────────────────────\u001b[0m\u001b[31m \u001b[0m\u001b[1;31mTraceback \u001b[0m\u001b[1;2;31m(most recent call last)\u001b[0m\u001b[31m \u001b[0m\u001b[31m───────────────────────────────\u001b[0m\u001b[31m─╮\u001b[0m\n",
       "\u001b[31m│\u001b[0m in \u001b[92m<module>\u001b[0m:\u001b[94m6\u001b[0m                                                                                    \u001b[31m│\u001b[0m\n",
       "\u001b[31m│\u001b[0m                                                                                                  \u001b[31m│\u001b[0m\n",
       "\u001b[31m│\u001b[0m   \u001b[2m 3 \u001b[0mdata = pdfplumber.open(pdf)                                                                 \u001b[31m│\u001b[0m\n",
       "\u001b[31m│\u001b[0m   \u001b[2m 4 \u001b[0m                                                                                            \u001b[31m│\u001b[0m\n",
       "\u001b[31m│\u001b[0m   \u001b[2m 5 \u001b[0mimg = data.pages[\u001b[94m0\u001b[0m].to_image()                                                              \u001b[31m│\u001b[0m\n",
       "\u001b[31m│\u001b[0m \u001b[31m❱ \u001b[0m 6 docs = pdf_to_docs(pdf)[\u001b[94m0\u001b[0m]                                                                  \u001b[31m│\u001b[0m\n",
       "\u001b[31m│\u001b[0m   \u001b[2m 7 \u001b[0mtext = [                                                                                    \u001b[31m│\u001b[0m\n",
       "\u001b[31m│\u001b[0m   \u001b[2m 8 \u001b[0m\u001b[2m│   \u001b[0m[t.strip() \u001b[94mfor\u001b[0m t \u001b[95min\u001b[0m p.extract_text(layout=\u001b[94mTrue\u001b[0m).splitlines()] \u001b[94mfor\u001b[0m p \u001b[95min\u001b[0m data.pages       \u001b[31m│\u001b[0m\n",
       "\u001b[31m│\u001b[0m   \u001b[2m 9 \u001b[0m]                                                                                           \u001b[31m│\u001b[0m\n",
       "\u001b[31m╰──────────────────────────────────────────────────────────────────────────────────────────────────╯\u001b[0m\n",
       "\u001b[1;91mIndexError: \u001b[0mlist index out of range\n"
      ]
     },
     "metadata": {},
     "output_type": "display_data"
    }
   ],
   "source": [
    "pdf = \"/media/hamza/data2/wilson_tools/pdf/wt10.pdf\"\n",
    "\n",
    "data = pdfplumber.open(pdf)\n",
    "\n",
    "img = data.pages[0].to_image()\n",
    "docs = pdf_to_docs(pdf)[0]\n",
    "text = [\n",
    "    [t.strip() for t in p.extract_text(layout=True).splitlines()] for p in data.pages\n",
    "]\n",
    "vline_tables = [p.extract_table(table_settings=vline_settings) for p in data.pages]\n",
    "hline_tables = [p.extract_table(table_settings=hline_settings) for p in data.pages]\n",
    "line_tables = [p.extract_table(table_settings=line_settings) for p in data.pages]\n",
    "text_tables = [p.extract_table(table_settings=text_settings) for p in data.pages]\n"
   ]
  },
  {
   "cell_type": "code",
   "execution_count": 85,
   "metadata": {},
   "outputs": [],
   "source": [
    "tables = vline_tables\n",
    "# tables = hline_tables\n",
    "# tables = line_tables"
   ]
  },
  {
   "cell_type": "code",
   "execution_count": 86,
   "metadata": {},
   "outputs": [
    {
     "data": {
      "text/html": [
       "<div>\n",
       "<style scoped>\n",
       "    .dataframe tbody tr th:only-of-type {\n",
       "        vertical-align: middle;\n",
       "    }\n",
       "\n",
       "    .dataframe tbody tr th {\n",
       "        vertical-align: top;\n",
       "    }\n",
       "\n",
       "    .dataframe thead th {\n",
       "        text-align: right;\n",
       "    }\n",
       "</style>\n",
       "<table border=\"1\" class=\"dataframe\">\n",
       "  <thead>\n",
       "    <tr style=\"text-align: right;\">\n",
       "      <th></th>\n",
       "      <th>Line ID</th>\n",
       "      <th>Item</th>\n",
       "      <th>Quantity</th>\n",
       "      <th>Unit Price</th>\n",
       "      <th>Amount</th>\n",
       "    </tr>\n",
       "  </thead>\n",
       "  <tbody>\n",
       "    <tr>\n",
       "      <th>0</th>\n",
       "      <td></td>\n",
       "      <td></td>\n",
       "      <td></td>\n",
       "      <td></td>\n",
       "      <td></td>\n",
       "    </tr>\n",
       "    <tr>\n",
       "      <th>1</th>\n",
       "      <td>1</td>\n",
       "      <td>SO1962465-10P 13789 1-1/4 Thick HP2 Wilson ABS/WLS Custom Shape PUNCH BANANA TOOL.DXF, 12.5MM RAD INSIDE 20MM RAD OUT, 1962465</td>\n",
       "      <td>3</td>\n",
       "      <td>$160.01</td>\n",
       "      <td>$480.03</td>\n",
       "    </tr>\n",
       "    <tr>\n",
       "      <th>2</th>\n",
       "      <td></td>\n",
       "      <td></td>\n",
       "      <td></td>\n",
       "      <td></td>\n",
       "      <td></td>\n",
       "    </tr>\n",
       "    <tr>\n",
       "      <th>3</th>\n",
       "      <td>2</td>\n",
       "      <td>SO1962465-10D+.3 13789 1-1/4 Thick HP2 Wilson ABS/WLS Custom Shape DIE, BANANA TOOL.DXF, 12.5MM RAD INSIDE 20MM RAD OUT, SLUG =NEGATIVE/POSITIVE, CLR=0.300 MM, 1962465</td>\n",
       "      <td>2</td>\n",
       "      <td>$98.18</td>\n",
       "      <td>$196.36</td>\n",
       "    </tr>\n",
       "    <tr>\n",
       "      <th>4</th>\n",
       "      <td></td>\n",
       "      <td></td>\n",
       "      <td></td>\n",
       "      <td></td>\n",
       "      <td></td>\n",
       "    </tr>\n",
       "    <tr>\n",
       "      <th>5</th>\n",
       "      <td>3</td>\n",
       "      <td>SO1962465-10D+.5 13789 1-1/4 Thick HP2 Wilson ABS/WLS Custom Shape DIE, BANANA TOOL.DXF, 12.5MM RAD INSIDE 20MM RAD OUT, SLUG =NEGATIVE/POSITIVE, CLR=0.500 MM, 1962465</td>\n",
       "      <td>1</td>\n",
       "      <td>$98.18</td>\n",
       "      <td>$98.18</td>\n",
       "    </tr>\n",
       "  </tbody>\n",
       "</table>\n",
       "</div>"
      ],
      "text/plain": [
       "  Line ID  \\\n",
       "0           \n",
       "1      1    \n",
       "2           \n",
       "3      2    \n",
       "4           \n",
       "5      3    \n",
       "\n",
       "                                                                                                                                                                       Item  \\\n",
       "0                                                                                                                                                                             \n",
       "1                                           SO1962465-10P 13789 1-1/4 Thick HP2 Wilson ABS/WLS Custom Shape PUNCH BANANA TOOL.DXF, 12.5MM RAD INSIDE 20MM RAD OUT, 1962465    \n",
       "2                                                                                                                                                                             \n",
       "3  SO1962465-10D+.3 13789 1-1/4 Thick HP2 Wilson ABS/WLS Custom Shape DIE, BANANA TOOL.DXF, 12.5MM RAD INSIDE 20MM RAD OUT, SLUG =NEGATIVE/POSITIVE, CLR=0.300 MM, 1962465    \n",
       "4                                                                                                                                                                             \n",
       "5  SO1962465-10D+.5 13789 1-1/4 Thick HP2 Wilson ABS/WLS Custom Shape DIE, BANANA TOOL.DXF, 12.5MM RAD INSIDE 20MM RAD OUT, SLUG =NEGATIVE/POSITIVE, CLR=0.500 MM, 1962465    \n",
       "\n",
       "  Quantity Unit Price    Amount  \n",
       "0                                \n",
       "1       3    $160.01   $480.03   \n",
       "2                                \n",
       "3       2     $98.18   $196.36   \n",
       "4                                \n",
       "5       1     $98.18    $98.18   "
      ]
     },
     "execution_count": 86,
     "metadata": {},
     "output_type": "execute_result"
    }
   ],
   "source": [
    "dfs = [pd.DataFrame(get_table_items(t)) for t in tables]\n",
    "dfs[0]"
   ]
  },
  {
   "cell_type": "code",
   "execution_count": null,
   "metadata": {},
   "outputs": [],
   "source": []
  },
  {
   "cell_type": "code",
   "execution_count": 7,
   "metadata": {},
   "outputs": [],
   "source": [
    "class ItemNER(BaseModel):\n",
    "    material_description: str = Field(\n",
    "        description=\"The material description of the order item.\", default=None\n",
    "    )\n",
    "    quantity: str = Field(description=\"The quantity of the order item.\", default=None)\n",
    "    unit_price: float = Field(description=\"The unit price of the order item.\", default=None)\n",
    "    amount: float = Field(description=\"The amount of the order item.\", default=None)\n",
    "\n",
    "\n",
    "class OrderNER(BaseModel):\n",
    "    order_items: List[ItemNER] = Field(description=\"The order items.\", default=None)\n",
    "\n",
    "\n",
    "class CustomerNER(BaseModel):\n",
    "    order_number: int\n",
    "    customer_number: int\n",
    "\n",
    "\n",
    "order_parser = PydanticOutputParser(pydantic_object=CustomerNER)\n",
    "\n",
    "order_temp = \"Extract information from this text:\\n{format_instructions}\\n{text}\\n\"\n",
    "\n",
    "order_prompt = PromptTemplate(\n",
    "    template=order_temp,\n",
    "    input_variables=[\"text\"],\n",
    "    partial_variables={\"format_instructions\": order_parser.get_format_instructions()},\n",
    ")\n",
    "\n",
    "order_temp = \"Extract the total from this text: {text}\\n\"\n",
    "order_prompt = PromptTemplate.from_template(order_temp)"
   ]
  },
  {
   "cell_type": "code",
   "execution_count": 8,
   "metadata": {},
   "outputs": [],
   "source": [
    "# gen_chain = LLMChain(prompt=order_prompt, llm=llm)"
   ]
  },
  {
   "cell_type": "code",
   "execution_count": 14,
   "metadata": {},
   "outputs": [],
   "source": [
    "docsearch = Chroma.from_documents(docs, embeddings)"
   ]
  },
  {
   "cell_type": "code",
   "execution_count": 42,
   "metadata": {},
   "outputs": [],
   "source": [
    "qa = RetrievalQA.from_chain_type(\n",
    "    llm=llm,\n",
    "    chain_type=\"stuff\",\n",
    "    retriever=docsearch.as_retriever(),\n",
    "    # chain_type_kwargs={\"prompt\": prompt},\n",
    "    return_source_documents=True,\n",
    ")"
   ]
  },
  {
   "cell_type": "code",
   "execution_count": 47,
   "metadata": {},
   "outputs": [
    {
     "name": "stderr",
     "output_type": "stream",
     "text": [
      "Both `max_new_tokens` (=256) and `max_length`(=20) seem to have been set. `max_new_tokens` will take precedence. Please refer to the documentation for more information. (https://huggingface.co/docs/transformers/main/en/main_classes/text_generation)\n"
     ]
    },
    {
     "data": {
      "text/plain": [
       "{'query': 'Who is the customer?',\n",
       " 'result': 'Julie Skogen',\n",
       " 'source_documents': [Document(page_content='identified. they may not be resold, transferred, or otherwise disposed of, to any other country or to any person other than the authorized ultimate consignee or end-user(s), either in', metadata={'page': 0, 'source': '/media/hamza/data2/wilson_tools/pdf/wt1.pdf', 'start_index': 1241}),\n",
       "  Document(page_content='identified. they may not be resold, transferred, or otherwise disposed of, to any other country or to any person other than the authorized ultimate consignee or end-user(s), either in', metadata={'page': 1, 'source': '/media/hamza/data2/wilson_tools/pdf/wt1.pdf', 'start_index': 1967}),\n",
       "  Document(page_content='identified. they may not be resold, transferred, or otherwise disposed of, to any other country or to any person other than the authorized ultimate consignee or end-user(s), either in', metadata={'page': 2, 'source': '/media/hamza/data2/wilson_tools/pdf/wt1.pdf', 'start_index': 360}),\n",
       "  Document(page_content='method of shipping ups groundinformation\\norder number\\nrevision 0\\ndocument date 05/31/2023\\ncustomer no.\\nquotation 21640223\\nquestions/contact julie skogen', metadata={'page': 0, 'source': '/media/hamza/data2/wilson_tools/pdf/wt1.pdf', 'start_index': 2194})]}"
      ]
     },
     "execution_count": 47,
     "metadata": {},
     "output_type": "execute_result"
    }
   ],
   "source": [
    "query = \"What is the total amount?\"\n",
    "query = \"What is the order number?\"\n",
    "query = \"What is the customer number?\"\n",
    "query = \"What is the target shipping date?\"\n",
    "query = \"Who is the customer?\"\n",
    "answer = qa({\"query\": query})\n",
    "answer"
   ]
  },
  {
   "cell_type": "code",
   "execution_count": 21,
   "metadata": {},
   "outputs": [
    {
     "data": {
      "text/plain": [
       "'6,247.33'"
      ]
     },
     "execution_count": 21,
     "metadata": {},
     "output_type": "execute_result"
    }
   ],
   "source": [
    "answer"
   ]
  },
  {
   "cell_type": "code",
   "execution_count": 10,
   "metadata": {},
   "outputs": [
    {
     "name": "stderr",
     "output_type": "stream",
     "text": [
      "Both `max_new_tokens` (=256) and `max_length`(=20) seem to have been set. `max_new_tokens` will take precedence. Please refer to the documentation for more information. (https://huggingface.co/docs/transformers/main/en/main_classes/text_generation)\n"
     ]
    },
    {
     "data": {
      "text/plain": [
       "'6,247.33'"
      ]
     },
     "execution_count": 10,
     "metadata": {},
     "output_type": "execute_result"
    }
   ],
   "source": [
    "res = gen_chain.run(dict(text=docs[-8]))\n",
    "res\n"
   ]
  },
  {
   "cell_type": "code",
   "execution_count": null,
   "metadata": {},
   "outputs": [],
   "source": []
  }
 ],
 "metadata": {
  "kernelspec": {
   "display_name": "Python 3 (ipykernel)",
   "language": "python",
   "name": "python3"
  },
  "language_info": {
   "codemirror_mode": {
    "name": "ipython",
    "version": 3
   },
   "file_extension": ".py",
   "mimetype": "text/x-python",
   "name": "python",
   "nbconvert_exporter": "python",
   "pygments_lexer": "ipython3",
   "version": "3.10.12"
  },
  "orig_nbformat": 4
 },
 "nbformat": 4,
 "nbformat_minor": 2
}
